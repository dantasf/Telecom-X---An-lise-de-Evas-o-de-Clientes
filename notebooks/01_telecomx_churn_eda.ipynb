{
 "cells": [
  {
   "cell_type": "markdown",
   "id": "8cab6b5c",
   "metadata": {},
   "source": [
    "\n",
    "# Telecom X — Churn de Clientes (ETL + EDA)\n",
    "\n",
    "**Autor:** Paulo Rodrigues (assistido por GPT)  \n",
    "**Objetivo:** Analisar a evasão de clientes (churn) da Telecom X, seguindo boas práticas de ETL e EDA.\n",
    "\n",
    "---\n"
   ]
  },
  {
   "cell_type": "markdown",
   "id": "2f1c71ae",
   "metadata": {},
   "source": [
    "\n",
    "## 1. Setup\n",
    "Instalação de bibliotecas (se necessário), importação e configuração básica.\n"
   ]
  },
  {
   "cell_type": "code",
   "execution_count": null,
   "id": "e7852084",
   "metadata": {},
   "outputs": [],
   "source": [
    "\n",
    "# !pip install -r ../requirements.txt\n",
    "\n",
    "import os, json, re, math, textwrap\n",
    "import numpy as np\n",
    "import pandas as pd\n",
    "import matplotlib.pyplot as plt\n",
    "\n",
    "from pathlib import Path\n",
    "\n",
    "# Pastas\n",
    "BASE_DIR = Path(\"..\").resolve()\n",
    "DATA_DIR = BASE_DIR / \"data\"\n",
    "RAW_DIR = DATA_DIR / \"raw\"\n",
    "PROC_DIR = DATA_DIR / \"processed\"\n",
    "FIG_DIR = BASE_DIR / \"reports\" / \"figures\"\n",
    "\n",
    "for p in [DATA_DIR, RAW_DIR, PROC_DIR, FIG_DIR]:\n",
    "    p.mkdir(parents=True, exist_ok=True)\n",
    "\n",
    "RAW_URL = \"https://raw.githubusercontent.com/ingridcristh/challenge2-data-science/main/TelecomX_Data.json\"\n",
    "DICT_URL = None  # opcional: informe a URL do dicionário de dados se disponível\n"
   ]
  },
  {
   "cell_type": "markdown",
   "id": "e5a0c8a8",
   "metadata": {},
   "source": [
    "\n",
    "## 2. Extração (E - Extract)\n",
    "Carregando o JSON diretamente da API (GitHub Raw) e convertendo para `DataFrame`.\n"
   ]
  },
  {
   "cell_type": "code",
   "execution_count": null,
   "id": "036fabdd",
   "metadata": {},
   "outputs": [],
   "source": [
    "\n",
    "import requests\n",
    "\n",
    "r = requests.get(RAW_URL, timeout=60)\n",
    "r.raise_for_status()\n",
    "data = r.json()\n",
    "\n",
    "with open(RAW_DIR / \"telecomx_raw.json\", \"w\", encoding=\"utf-8\") as f:\n",
    "    json.dump(data, f, ensure_ascii=False, indent=2)\n",
    "\n",
    "# Normaliza em DataFrame (lida tanto com lista de dicts quanto dict com chave 'data')\n",
    "if isinstance(data, dict) and \"data\" in data:\n",
    "    df = pd.json_normalize(data[\"data\"])\n",
    "else:\n",
    "    df = pd.json_normalize(data)\n",
    "\n",
    "print(\"Linhas x Colunas:\", df.shape)\n",
    "df.head(3)\n"
   ]
  },
  {
   "cell_type": "markdown",
   "id": "ce88c81a",
   "metadata": {},
   "source": [
    "\n",
    "## 3. Conhecendo o Dataset\n",
    "Tipos, amostras, estatísticas e (opcional) dicionário de dados.\n"
   ]
  },
  {
   "cell_type": "code",
   "execution_count": null,
   "id": "d0592149",
   "metadata": {},
   "outputs": [],
   "source": [
    "\n",
    "df_info = df.info()\n",
    "display(df.describe(include=\"all\", datetime_is_numeric=True).transpose())\n"
   ]
  },
  {
   "cell_type": "code",
   "execution_count": null,
   "id": "74fde40d",
   "metadata": {},
   "outputs": [],
   "source": [
    "\n",
    "# (Opcional) Carregar dicionário de dados se você tiver a URL\n",
    "if DICT_URL:\n",
    "    try:\n",
    "        dd = requests.get(DICT_URL, timeout=60).json()\n",
    "        print(\"Exemplo de dicionário carregado (primeiras chaves):\", list(dd)[:10])\n",
    "    except Exception as e:\n",
    "        print(\"Falha ao carregar dicionário:\", e)\n",
    "else:\n",
    "    print(\"Sem dicionário de dados externo. Prosseguindo com inferência automática.\")\n"
   ]
  },
  {
   "cell_type": "markdown",
   "id": "1747be0a",
   "metadata": {},
   "source": [
    "\n",
    "## 4. Verificando Inconsistências\n",
    "Valores ausentes, duplicados, categorias estranhas.\n"
   ]
  },
  {
   "cell_type": "code",
   "execution_count": null,
   "id": "7ffece49",
   "metadata": {},
   "outputs": [],
   "source": [
    "\n",
    "# Duplicados\n",
    "dup_count = df.duplicated().sum()\n",
    "print(\"Duplicados:\", dup_count)\n",
    "\n",
    "# Ausentes\n",
    "missing = df.isna().sum().sort_values(ascending=False)\n",
    "display(missing.to_frame(\"missing\").assign(pct=lambda x: (x[\"missing\"]/len(df)).round(4)))\n"
   ]
  },
  {
   "cell_type": "markdown",
   "id": "dd912df4",
   "metadata": {},
   "source": [
    "\n",
    "## 5. Tratamento (T - Transform)\n",
    "- Padronização de nomes de colunas  \n",
    "- Conversão de tipos numéricos  \n",
    "- Preenchimento simples de ausentes  \n",
    "- Normalização de rótulos \"Sim/Não\"  \n",
    "- Criação da coluna `Contas_Diarias`\n"
   ]
  },
  {
   "cell_type": "code",
   "execution_count": null,
   "id": "cd4d0948",
   "metadata": {},
   "outputs": [],
   "source": [
    "\n",
    "# Funções utilitárias (espelhadas em src/etl.py)\n",
    "def _clean_col(col):\n",
    "    col = col.strip()\n",
    "    col = re.sub(r\"\\s+\", \"_\", col)\n",
    "    col = col.replace(\"%\",\"pct\").replace(\"$\",\"dolar\")\n",
    "    return col.lower()\n",
    "\n",
    "work = df.rename(columns={c: _clean_col(c) for c in df.columns}).copy()\n",
    "\n",
    "# Tentar converter colunas tipo string numéricas\n",
    "for c in work.columns:\n",
    "    if work[c].dtype == \"object\":\n",
    "        try:\n",
    "            work[c] = (\n",
    "                work[c].astype(str)\n",
    "                .str.replace(r\"[R$\\s]\", \"\", regex=True)\n",
    "                .str.replace(\".\", \"\", regex=False)\n",
    "                .str.replace(\",\", \".\", regex=False)\n",
    "            )\n",
    "            work[c] = pd.to_numeric(work[c], errors=\"ignore\")\n",
    "        except Exception:\n",
    "            pass\n",
    "\n",
    "# Relatório de ausentes (após tipagem)\n",
    "missing_after = work.isna().sum().sort_values(ascending=False)\n",
    "display(missing_after.to_frame(\"missing\").assign(pct=lambda x: (x[\"missing\"]/len(work)).round(4)))\n",
    "\n",
    "# Preenchimento simples\n",
    "for c in work.columns:\n",
    "    if work[c].dtype.kind in \"biufc\":\n",
    "        if work[c].isna().any():\n",
    "            work[c] = work[c].fillna(work[c].median())\n",
    "    else:\n",
    "        if work[c].isna().any():\n",
    "            work[c] = work[c].fillna(\"Desconhecido\")\n",
    "\n",
    "# Normalização Sim/Não\n",
    "yes_no_map = {\"Sim\":1, \"Não\":0, \"Yes\":1, \"No\":0, \"Y\":1, \"N\":0, \"S\":1, \"NÃO\":0, \"NAO\":0}\n",
    "for c in work.columns:\n",
    "    if work[c].dtype == \"object\":\n",
    "        uniques = set(map(str, work[c].dropna().unique()))\n",
    "        if uniques & set(yes_no_map.keys()):\n",
    "            work[c] = work[c].map(yes_no_map).fillna(work[c])\n",
    "\n",
    "# Criação Contas_Diarias a partir de 'monthlycharges' se existir\n",
    "if \"monthlycharges\" in work.columns:\n",
    "    work[\"contas_diarias\"] = work[\"monthlycharges\"] / 30.0\n",
    "\n",
    "work = work.drop_duplicates()\n",
    "print(\"Shape pós-tratamento:\", work.shape)\n",
    "\n",
    "# Salvar processado\n",
    "work.to_parquet(PROC_DIR / \"telecomx_processed.parquet\", index=False)\n",
    "work.head(3)\n"
   ]
  },
  {
   "cell_type": "markdown",
   "id": "289a370b",
   "metadata": {},
   "source": [
    "\n",
    "## 6. Análise Descritiva (L - Load & Analysis)\n",
    "Métricas centrais para variáveis numéricas e cardinalidade para categóricas.\n"
   ]
  },
  {
   "cell_type": "code",
   "execution_count": null,
   "id": "301f5034",
   "metadata": {},
   "outputs": [],
   "source": [
    "\n",
    "# Estatísticas numéricas\n",
    "display(work.describe().transpose())\n",
    "\n",
    "# Cardinalidade de categóricas\n",
    "cat_cols = [c for c in work.columns if work[c].dtype == \"object\" or work[c].dtype.name == \"category\"]\n",
    "card = {c: work[c].nunique(dropna=False) for c in cat_cols}\n",
    "pd.DataFrame.from_dict(card, orient=\"index\", columns=[\"n_unique\"]).sort_values(\"n_unique\", ascending=False)\n"
   ]
  },
  {
   "cell_type": "markdown",
   "id": "86c58cce",
   "metadata": {},
   "source": [
    "\n",
    "## 7. Distribuição da Evasão (Churn)\n"
   ]
  },
  {
   "cell_type": "code",
   "execution_count": null,
   "id": "8663680c",
   "metadata": {},
   "outputs": [],
   "source": [
    "\n",
    "# Tenta detectar a coluna de churn automaticamente\n",
    "possible = [c for c in work.columns if \"churn\" in c or \"evasao\" in c]\n",
    "if not possible:\n",
    "    raise ValueError(\"Coluna de churn não encontrada. Verifique o nome no dataset.\")\n",
    "CHURN_COL = possible[0]\n",
    "print(\"Usando coluna de churn:\", CHURN_COL)\n",
    "\n",
    "counts = work[CHURN_COL].value_counts(dropna=False)\n",
    "ax = counts.plot(kind=\"bar\")\n",
    "ax.set_title(\"Distribuição de Evasão (Churn)\")\n",
    "ax.set_xlabel(\"Churn\")\n",
    "ax.set_ylabel(\"Quantidade\")\n",
    "plt.tight_layout()\n",
    "plt.savefig(FIG_DIR / \"churn_distribution.png\", dpi=150)\n",
    "plt.show()\n",
    "\n",
    "churn_rate = work[CHURN_COL].mean() if work[CHURN_COL].dtype.kind in \"biufc\" else (work[CHURN_COL].astype(str).str.lower().isin([\"1\",\"sim\",\"yes\",\"true\"])).mean()\n",
    "print(f\"Taxa de churn (aprox.): {churn_rate:.2%}\")\n"
   ]
  },
  {
   "cell_type": "markdown",
   "id": "c8e5f037",
   "metadata": {},
   "source": [
    "\n",
    "## 8. Churn por Variáveis Categóricas\n",
    "Gráficos empilhados com proporção de churn por categoria.\n"
   ]
  },
  {
   "cell_type": "code",
   "execution_count": null,
   "id": "8fdde531",
   "metadata": {},
   "outputs": [],
   "source": [
    "\n",
    "max_unique = 20\n",
    "cat_cols = [c for c in work.columns if work[c].dtype == \"object\" or work[c].dtype.name == \"category\"]\n",
    "\n",
    "for c in cat_cols:\n",
    "    if c == CHURN_COL: \n",
    "        continue\n",
    "    if work[c].nunique(dropna=False) > max_unique:\n",
    "        continue\n",
    "    ct = pd.crosstab(work[c], work[CHURN_COL], normalize=\"index\")\n",
    "    ax = ct.plot(kind=\"bar\", stacked=True)\n",
    "    ax.set_title(f\"Churn por {c}\")\n",
    "    ax.set_xlabel(c)\n",
    "    ax.set_ylabel(\"Proporção\")\n",
    "    plt.tight_layout()\n",
    "    plt.savefig(FIG_DIR / f\"churn_by_{c}.png\", dpi=150)\n",
    "    plt.show()\n"
   ]
  },
  {
   "cell_type": "markdown",
   "id": "b15e6da7",
   "metadata": {},
   "source": [
    "\n",
    "## 9. Churn por Variáveis Numéricas\n",
    "Boxplots para comparar distribuições entre churn x não-churn.\n"
   ]
  },
  {
   "cell_type": "code",
   "execution_count": null,
   "id": "edf6d92c",
   "metadata": {},
   "outputs": [],
   "source": [
    "\n",
    "num_cols = [c for c in work.columns if work[c].dtype.kind in \"biufc\"]\n",
    "for c in num_cols:\n",
    "    if c == CHURN_COL:\n",
    "        continue\n",
    "    ax = work.boxplot(column=c, by=CHURN_COL)\n",
    "    plt.title(f\"{c} por {CHURN_COL}\")\n",
    "    plt.suptitle(\"\")\n",
    "    plt.xlabel(\"Churn\")\n",
    "    plt.ylabel(c)\n",
    "    plt.tight_layout()\n",
    "    plt.savefig(FIG_DIR / f\"{c}_by_{CHURN_COL}.png\", dpi=150)\n",
    "    plt.show()\n"
   ]
  },
  {
   "cell_type": "markdown",
   "id": "e4b333a9",
   "metadata": {},
   "source": [
    "\n",
    "## 10. Segmentos com Maior Churn\n",
    "Top segmentos para foco em retenção (categóricas) e faixas (numéricas).\n"
   ]
  },
  {
   "cell_type": "code",
   "execution_count": null,
   "id": "fe8cebb8",
   "metadata": {},
   "outputs": [],
   "source": [
    "\n",
    "def churn_rate(series):\n",
    "    # tenta interpretar 1 como churn\n",
    "    if series.dtype.kind in \"biufc\":\n",
    "        return series.mean()\n",
    "    s = series.astype(str).str.lower().isin([\"1\",\"sim\",\"yes\",\"true\"])\n",
    "    return s.mean()\n",
    "\n",
    "# Garante vetor binário de churn\n",
    "if work[CHURN_COL].dtype.kind in \"biufc\":\n",
    "    churn_bin = work[CHURN_COL].astype(int)\n",
    "else:\n",
    "    churn_bin = work[CHURN_COL].astype(str).str.lower().isin([\"1\",\"sim\",\"yes\",\"true\"]).astype(int)\n",
    "\n",
    "# Categóricas\n",
    "summary_rows = []\n",
    "for c in cat_cols:\n",
    "    if c == CHURN_COL: \n",
    "        continue\n",
    "    if work[c].nunique(dropna=False) > 20:\n",
    "        continue\n",
    "    grp = work.groupby(c)[churn_bin.name if hasattr(churn_bin, \"name\") else CHURN_COL].mean()\n",
    "    summary_rows.append((c, grp.sort_values(ascending=False).head(3)))\n",
    "\n",
    "# Numéricas (binning em 5 faixas)\n",
    "num_summary = []\n",
    "for c in num_cols:\n",
    "    if c == CHURN_COL:\n",
    "        continue\n",
    "    try:\n",
    "        bins = pd.qcut(work[c], q=5, duplicates=\"drop\")\n",
    "        grp = work.groupby(bins)[churn_bin].mean()\n",
    "        num_summary.append((c, grp.sort_values(ascending=False).head(3)))\n",
    "    except Exception:\n",
    "        pass\n",
    "\n",
    "print(\"Top segmentos por categóricas (maior churn):\")\n",
    "for c, top in summary_rows[:5]:\n",
    "    display(top.to_frame(\"churn_rate\"))\n",
    "\n",
    "print(\"Top faixas por numéricas (maior churn):\")\n",
    "for c, top in num_summary[:5]:\n",
    "    display(top.to_frame(\"churn_rate\"))\n"
   ]
  },
  {
   "cell_type": "markdown",
   "id": "52a76009",
   "metadata": {},
   "source": [
    "\n",
    "## 11. Conclusões, Insights e Recomendações\n",
    "Abaixo um template que você pode adaptar após revisar os gráficos/segmentos encontrados.\n"
   ]
  },
  {
   "cell_type": "markdown",
   "id": "1870fc1f",
   "metadata": {},
   "source": [
    "\n",
    "**Principais achados (exemplos):**\n",
    "- A taxa de churn global é de **X%**.\n",
    "- Clientes com **tipo de contrato = mensal** apresentam maior churn que contratos anuais.\n",
    "- **Método de pagamento = boleto** correlaciona-se com uma taxa maior de churn em relação a **cartão/crédito automático**.\n",
    "- **Contas_Diarias** e **tenure** (tempo de casa) mostram que clientes com gastos mensais mais baixos e pouco tempo de contrato tendem a churnar mais.\n",
    "\n",
    "**Recomendações (exemplos):**\n",
    "- Incentivar **migração para contratos de longo prazo** (descontos/benefícios de fidelidade).\n",
    "- Oferecer **upgrades de plano** ou bundles para clientes de baixo gasto mensal.\n",
    "- Campanha proativa para clientes **recém-adquiridos** (primeiros 3 meses), com suporte dedicado.\n",
    "- Revisar políticas de **método de pagamento**, incentivando débito automático com benefícios.\n",
    "- Implementar **modelo preditivo de churn** usando as features de maior sinal para priorizar ações de retenção.\n"
   ]
  }
 ],
 "metadata": {},
 "nbformat": 4,
 "nbformat_minor": 5
}
